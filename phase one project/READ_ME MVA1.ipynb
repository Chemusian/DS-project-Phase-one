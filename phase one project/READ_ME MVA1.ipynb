{
 "cells": [
  {
   "cell_type": "markdown",
   "id": "213091c2-6917-4fc9-b182-4bed075944aa",
   "metadata": {},
   "source": [
    "# **Microsoft Movies Analysis**"
   ]
  },
  {
   "cell_type": "markdown",
   "id": "494adccf-8cb6-44a6-8121-6a1c91c8d953",
   "metadata": {},
   "source": [
    "## **Author: Winny Chemusian**"
   ]
  },
  {
   "cell_type": "markdown",
   "id": "78b9d5fe-0c0d-4898-b24f-7c962d93b493",
   "metadata": {},
   "source": [
    "## **Overview**"
   ]
  },
  {
   "cell_type": "markdown",
   "id": "09ff23cf-4db4-4fe3-930a-2dd70751cb6d",
   "metadata": {},
   "source": [
    "#### Microsoft has decided to create a new movie studio and require to know which types of movies are doing best in the box office."
   ]
  },
  {
   "cell_type": "markdown",
   "id": "304e7a5e-c9a7-47ff-8075-0274710bf6a1",
   "metadata": {},
   "source": [
    "#### This project analyzes using decriptive analysis of movies using data from IMDb website to get an understanding of movie that are doing the best. "
   ]
  },
  {
   "cell_type": "markdown",
   "id": "96ea1faf-97ef-4d5d-8c27-36168bd03888",
   "metadata": {},
   "source": [
    "#### The datasets used for this analysis are three to gain understanding on the genres that topped the domestic gross sales, foreign gross sales, had the top average ratings and number of votes. "
   ]
  },
  {
   "cell_type": "markdown",
   "id": "b974aabc-1fd9-400b-8dd7-a60560686e9a",
   "metadata": {},
   "source": [
    "## **Business Problem**"
   ]
  },
  {
   "cell_type": "markdown",
   "id": "3763d9b1-d9bc-4503-956e-cd58bcc2a421",
   "metadata": {},
   "source": [
    "#### Microsoft want to produce movies that are going to be successful in order to make profits, they want to know which types of movies are the most successful."
   ]
  },
  {
   "cell_type": "markdown",
   "id": "0f0aeead-b7ef-4f29-9b17-c74bd483e4ba",
   "metadata": {},
   "source": [
    "#### To answer that question both Domestic and Foreign Sales data was analysed to see the most financially successful genres, along with the average rating given and number of votes for each type or genre of movie to see how popularity compared with financial success."
   ]
  },
  {
   "cell_type": "markdown",
   "id": "96b4fecf-4efb-45a7-ad63-aa3412f5e56a",
   "metadata": {},
   "source": [
    "## **Data**"
   ]
  },
  {
   "cell_type": "markdown",
   "id": "0a3fbba0-ddc0-48e2-999a-7555844255c4",
   "metadata": {},
   "source": [
    "#### The data analysed came from IMDb website.  I used 3 files (imdb_title_baiscs, imdb_title_ratings and bom_movie_gross) from IMDb to answer the question of which genres were most successful, mainly focusing on the Domestic Gross sales along with average ratings given and number of votes received."
   ]
  },
  {
   "cell_type": "markdown",
   "id": "2c833923-5c78-4908-9b53-f3c6a0304dd7",
   "metadata": {},
   "source": [
    "## **Methodology**"
   ]
  },
  {
   "cell_type": "markdown",
   "id": "d868789c-8829-4433-919c-a5ae1ad716fb",
   "metadata": {},
   "source": [
    "#### After checking the information on each table to see column names and null values, I joined the two datasets, df_titles_basic_info and df_ratings together using the 'tconst' column as it was a unique identifier creating a new dataframe called merged_df1. "
   ]
  },
  {
   "cell_type": "markdown",
   "id": "4c0128f4-9cd3-4adc-afad-2d9fa10db694",
   "metadata": {},
   "source": [
    "#### I then joined the dataset df_movie_gross with the new dataframe using the primary title as the unique identifier after renaming the column title to primary title in the bom -movie_gross data, creating a combined new dataset called df. "
   ]
  },
  {
   "cell_type": "markdown",
   "id": "dbe8289a-4c0f-415d-a2f8-3ceebdd61aed",
   "metadata": {},
   "source": [
    "#### Checking the information on the new dataframe df, I cleaned up the null values by removing them,  The columns studio, original title, year were deleted as they were not required to carry out this analysis. "
   ]
  },
  {
   "cell_type": "markdown",
   "id": "7ae98075-7a28-4b31-96d9-33c4349e8231",
   "metadata": {},
   "source": [
    "#### Renamed the averagerating and numvotes by adding an underscore to be more readable. "
   ]
  },
  {
   "cell_type": "markdown",
   "id": "8a9ec0af-9536-4f52-9a3c-d719f2e7e1d2",
   "metadata": {},
   "source": [
    "#### Removed outliers form averagerating, num_votes runtime minutes and domestic gross to avoid skewness of the data."
   ]
  },
  {
   "cell_type": "markdown",
   "id": "ebb6679b-83d0-4009-adb1-b01e5be36df9",
   "metadata": {},
   "source": [
    "#### Added a rating column according to the average rating of labels poor, fair, average, good and excellent."
   ]
  },
  {
   "cell_type": "markdown",
   "id": "1aa28876-1c16-45ea-b414-00d045f20fb1",
   "metadata": {},
   "source": [
    "#### Explored the data by grouping the top twenty genres with respect to average rating, num_votes runtime minutes and domestic gross."
   ]
  },
  {
   "cell_type": "markdown",
   "id": "e416b371-900b-4aaa-ac82-0b5920bb9128",
   "metadata": {},
   "source": [
    "## **Results**"
   ]
  },
  {
   "cell_type": "markdown",
   "id": "749a5064-0e4b-48a0-9f3a-baefd07951cf",
   "metadata": {},
   "source": [
    "#### From the top twenty genres;\n"
   ]
  },
  {
   "cell_type": "markdown",
   "id": "95a7822f-831b-4b51-acd3-b636992a1c65",
   "metadata": {},
   "source": [
    "#### With respect to domestic gross sales Action, animation and comedy topped the list with more sales with action, fantasy and comedy being the most popular in the genre combinations."
   ]
  },
  {
   "cell_type": "markdown",
   "id": "b24e6201-136d-4170-b9ed-74dbfe98dd04",
   "metadata": {},
   "source": [
    "#### With respect to average rating the documentary movies was most popular.\n",
    "#### With respect to number of votes the action, comedy and scify movies were the most dominant.\n",
    "#### Adventure genre is constant in all the above graphs for the top 20 genres so must be considered a key element of any movie to be produced"
   ]
  },
  {
   "cell_type": "markdown",
   "id": "b4ce8c18-0be1-4787-bf90-f3e19e1e8444",
   "metadata": {},
   "source": [
    "## **Conclusions and Recommendations**"
   ]
  },
  {
   "cell_type": "markdown",
   "id": "14a7d590-6e31-4c6d-8ca6-a996d1c5eb19",
   "metadata": {},
   "source": [
    "#### This analysis leads to three recommendations regarding types of movies that are successful:-\n",
    "\n",
    "#### The movies with genre combination of action, animation and comedy had the highest domestic gross sales hence this is the first type of movie to produce for more sales. Movies with fantasy also appeared to be predominant in the top 20 movies with highest sales,this can be considered also as an alternative for more sales. \n",
    "#### Movies in the top 20 votes had slightly different results with genres comedy, action and scifi being dominant. Movies with a genre combination of documentary appeared to top the list in this category.\n",
    "#### Adventure genre is constant in all the above graphs for the top 20 so must be considered a key element of any movie to be produced.\n",
    "#### Limitations-Features such as number of viewers and targeted audience should be added in the future for better analysis. The classification of the genres should also be improved for better results."
   ]
  },
  {
   "cell_type": "markdown",
   "id": "a0b27b31-f8dc-4a19-acc1-262a8d9e779b",
   "metadata": {},
   "source": [
    "## **Repository Structure**"
   ]
  },
  {
   "cell_type": "markdown",
   "id": "e000313c-97c5-4999-ae21-a0db7e21442f",
   "metadata": {},
   "source": [
    "#### Repository has the following contents;\n",
    "#### ```\n",
    "#### ├── README.md                           \n",
    "#### ├── dsc-phase1-project-template.ipynb  \n",
    "#### ├── DS_Project_Presentation.pdf        \n",
    "#### ├── data                               "
   ]
  },
  {
   "cell_type": "code",
   "execution_count": null,
   "id": "10a197ef-05f8-4f94-bc91-0cffa44c363d",
   "metadata": {},
   "outputs": [],
   "source": []
  }
 ],
 "metadata": {
  "kernelspec": {
   "display_name": "Python 3 (ipykernel)",
   "language": "python",
   "name": "python3"
  },
  "language_info": {
   "codemirror_mode": {
    "name": "ipython",
    "version": 3
   },
   "file_extension": ".py",
   "mimetype": "text/x-python",
   "name": "python",
   "nbconvert_exporter": "python",
   "pygments_lexer": "ipython3",
   "version": "3.11.5"
  }
 },
 "nbformat": 4,
 "nbformat_minor": 5
}
